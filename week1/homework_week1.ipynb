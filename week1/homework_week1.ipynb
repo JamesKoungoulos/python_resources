{
 "cells": [
  {
   "cell_type": "markdown",
   "metadata": {},
   "source": [
    "<h1>MapReduce Simulator - COMP5349 Homework Week 1</h1>\n",
    "\n",
    "This week's self-test homework requires you to implement a small MapReduce simulation program that scans a given input file (data.csv), and calls two functions to filter and aggregate the data found there."
   ]
  },
  {
   "cell_type": "markdown",
   "metadata": {},
   "source": [
    "The data set (data.csv) we are going to use is stored in CSV format with \\t as delimiter. It contains 100,000 user ratings for films.\n",
    "\n",
    "Make sure you have downloaded the every files (data.csv, map_reduce_simulator.py, mapper.py, and reducer.py) from our GitHub repository (https://github.sydney.edu.au/COMP5349-Cloud-Computing/python_resources/tree/master/week1) for this week, and saved them in the same directory as this notebook. \n",
    "\n",
    "Execute the cell block below (click it with your mouse and either press the play button on the toolbar above or hit Ctrl+Enter) to see what the file looks like. "
   ]
  },
  {
   "cell_type": "code",
   "execution_count": null,
   "metadata": {},
   "outputs": [],
   "source": [
    "import csv\n",
    "\n",
    "header = ['user_id','film_id', 'rating', 'timestamp']\n",
    "print(header)\n",
    "num_lines = 12\n",
    "with open('data.csv', 'r') as data_file:\n",
    "    data_reader = csv.reader(data_file, delimiter='\\t')\n",
    "    for i in range(0, num_lines):\n",
    "        print(next(data_reader))"
   ]
  },
  {
   "cell_type": "markdown",
   "metadata": {},
   "source": [
    "There are 4 fields: <i>user_id</i>, <i>film_id</i>, <i>rating</i>, and <i>timestamp</i>. \n",
    "\n",
    "<i>user_id</i>, <i>film_id</i>,and <i>rating</i> are integers. The value for <i>rating</i> ranges from 1 to 5.\n",
    "\n",
    "<b>Note</b> that some lines are incomplete (notice how <i>user_id</i> 286 and <i>film_id</i> 1014 above is missing <i>rating</i> and <i>timestamp</i>). \n"
   ]
  },
  {
   "cell_type": "markdown",
   "metadata": {},
   "source": [
    "Your homework task is to implement two missing classes: <b>RatingFilter</b> and <b>RatingReducer</b>, so that the final program determines the average film rating (as float value rounded to 1 decimal place) for those films whose ID is in a given range."
   ]
  },
  {
   "cell_type": "markdown",
   "metadata": {},
   "source": [
    "<h2>RatingFilter</h2>\n",
    "\n",
    "The <i>RatingFilter</i> class is a specialisation of the generic Filter class. You have to implement:\n",
    "* <code style=\"color:green\">&#95;&#95;init&#95;&#95;(self, start_movieid, end_movieid)</code> - an initialiser  that allows <i>RatingFilter</i> to store the search range of the film ids (start_movieid and end_movieid)\n",
    "* <code style=\"color:green\">filter(self, line)</code> - a filter method that will filter the input file and return appropriate films and their respective ratings. This method will be called for each individual line of the input file above (line parameter). It should return the rating for all films with an ID within the requested range. The method must return the result as a tuple (key, value) with the <i>film_id</i> as the key, and <i>rating</i> as the value. If there are no film within the given ID range, then just return None. \n",
    "\n",
    "The <i>RatingFilter</i> class is located at the bottom of [mapper.py file](../edit/mapper.py). Scroll all the way to the bottom and replace the <code style=\"color:red\">raise</code> <code style=\"color:blue\">NotImplementedError</code> line with your implementation"
   ]
  },
  {
   "cell_type": "markdown",
   "metadata": {},
   "source": [
    "<h2>RatingReducer</h2>\n",
    "\n",
    "The <i>RatingReducer</i> class is a specialisation of the generic Reducer class. You have to implement:\n",
    "\n",
    "* <code style=\"color:green\">reduce(self, key, values)</code> - a method which computes the average rating (as Float) of all the given input ratings of the same film. \n",
    "This method is called by our map_reduce_simulator with film_id as the <i>key</i> (String) and a list of Integer ratings given by various users for this film (identified by the film_id) as the <i>values</i>. \n",
    "It should compute the average of all the ratings given, and return it as a Float value rounded to one decimal place (eg. 3.5).\n",
    "\n",
    "The <i>RatingReducer</i> class is located at the bottom of [reducer.py file](../edit/reducer.py). Scroll all the way to the bottom and replace the <code style=\"color:red\">raise</code> <code style=\"color:blue\">NotImplementedError</code> line with your implementation"
   ]
  },
  {
   "cell_type": "markdown",
   "metadata": {},
   "source": [
    "Once you implemented the these two classes, execute the cell directly below to setup some modules.\n",
    "\n",
    "<b>Note<b> you only need to execute the cell directly below once."
   ]
  },
  {
   "cell_type": "code",
   "execution_count": 1,
   "metadata": {},
   "outputs": [],
   "source": [
    "%load_ext autoreload\n",
    "\n",
    "from mapper import RatingFilter\n",
    "from reducer import RatingReducer\n",
    "from map_reduce_simulator import map_reduce\n"
   ]
  },
  {
   "cell_type": "markdown",
   "metadata": {},
   "source": [
    "Then run the cell below to check your implementation."
   ]
  },
  {
   "cell_type": "code",
   "execution_count": 4,
   "metadata": {},
   "outputs": [
    {
     "ename": "NotImplementedError",
     "evalue": "",
     "output_type": "error",
     "traceback": [
      "\u001b[0;31m---------------------------------------------------------------------------\u001b[0m",
      "\u001b[0;31mNotImplementedError\u001b[0m                       Traceback (most recent call last)",
      "\u001b[0;32m<ipython-input-4-190961557629>\u001b[0m in \u001b[0;36m<module>\u001b[0;34m()\u001b[0m\n\u001b[1;32m      5\u001b[0m \u001b[0mend_movie_id\u001b[0m \u001b[0;34m=\u001b[0m \u001b[0;36m10\u001b[0m\u001b[0;34m\u001b[0m\u001b[0m\n\u001b[1;32m      6\u001b[0m \u001b[0;34m\u001b[0m\u001b[0m\n\u001b[0;32m----> 7\u001b[0;31m \u001b[0mrating_filter\u001b[0m \u001b[0;34m=\u001b[0m \u001b[0mRatingFilter\u001b[0m\u001b[0;34m(\u001b[0m\u001b[0mstart_movie_id\u001b[0m\u001b[0;34m,\u001b[0m \u001b[0mend_movie_id\u001b[0m\u001b[0;34m)\u001b[0m\u001b[0;34m\u001b[0m\u001b[0m\n\u001b[0m\u001b[1;32m      8\u001b[0m \u001b[0mrating_reducer\u001b[0m \u001b[0;34m=\u001b[0m \u001b[0mRatingReducer\u001b[0m\u001b[0;34m(\u001b[0m\u001b[0;34m)\u001b[0m\u001b[0;34m\u001b[0m\u001b[0m\n\u001b[1;32m      9\u001b[0m \u001b[0mstats\u001b[0m \u001b[0;34m=\u001b[0m \u001b[0mmap_reduce\u001b[0m\u001b[0;34m(\u001b[0m\u001b[0mfilename\u001b[0m\u001b[0;34m,\u001b[0m \u001b[0mrating_filter\u001b[0m\u001b[0;34m,\u001b[0m \u001b[0mrating_reducer\u001b[0m\u001b[0;34m)\u001b[0m\u001b[0;34m\u001b[0m\u001b[0m\n",
      "\u001b[0;32m~/Documents/comp5349-2018/python_resources/week1/mapper.py\u001b[0m in \u001b[0;36m__init__\u001b[0;34m(self, start_movieid, end_movieid)\u001b[0m\n\u001b[1;32m     52\u001b[0m     \u001b[0;32mdef\u001b[0m \u001b[0m__init__\u001b[0m\u001b[0;34m(\u001b[0m\u001b[0mself\u001b[0m\u001b[0;34m,\u001b[0m \u001b[0mstart_movieid\u001b[0m\u001b[0;34m,\u001b[0m \u001b[0mend_movieid\u001b[0m\u001b[0;34m)\u001b[0m\u001b[0;34m:\u001b[0m\u001b[0;34m\u001b[0m\u001b[0m\n\u001b[1;32m     53\u001b[0m         \u001b[0;31m# TODO\u001b[0m\u001b[0;34m\u001b[0m\u001b[0;34m\u001b[0m\u001b[0m\n\u001b[0;32m---> 54\u001b[0;31m         \u001b[0;32mraise\u001b[0m \u001b[0mNotImplementedError\u001b[0m\u001b[0;34m\u001b[0m\u001b[0m\n\u001b[0m\u001b[1;32m     55\u001b[0m \u001b[0;34m\u001b[0m\u001b[0m\n\u001b[1;32m     56\u001b[0m     \u001b[0;32mdef\u001b[0m \u001b[0mfilter\u001b[0m\u001b[0;34m(\u001b[0m\u001b[0mself\u001b[0m\u001b[0;34m,\u001b[0m \u001b[0mline\u001b[0m\u001b[0;34m)\u001b[0m\u001b[0;34m:\u001b[0m\u001b[0;34m\u001b[0m\u001b[0m\n",
      "\u001b[0;31mNotImplementedError\u001b[0m: "
     ]
    }
   ],
   "source": [
    "%autoreload 2\n",
    "\n",
    "filename = \"data.csv\"\n",
    "start_movie_id = 1\n",
    "end_movie_id = 10\n",
    "\n",
    "rating_filter = RatingFilter(start_movie_id, end_movie_id)\n",
    "rating_reducer = RatingReducer()\n",
    "stats = map_reduce(filename, rating_filter, rating_reducer)\n",
    "\n",
    "print(\"MapReduce Simulator using mapper:  \" + rating_filter.__repr__())\n",
    "print(\"MapReduce Simulator using reducer: \" + rating_reducer.__repr__())\n",
    "print(\"Lines in File:    {} records (should be: {})\".format(rating_filter.get_num_calls(), stats[0]))\n",
    "print(\"Filtered records: {} (should be: {})\".format(rating_filter.get_num_records(), stats[1]))"
   ]
  },
  {
   "cell_type": "markdown",
   "metadata": {},
   "source": [
    "If you code is correct, it should produce the following output:\n",
    "\n",
    "* 4: 3.6\n",
    "* 5: 3.3\n",
    "* 2: 3.2\n",
    "* 10: 3.8\n",
    "* 7: 3.8\n",
    "* 3: 3.0\n",
    "* 1: 3.9\n",
    "* 8: 4.0\n",
    "* 9: 3.9\n",
    "* 6: 3.5\n",
    "* MapReduce Simulator using mapper:  <mapper.RatingFilter object at ...>\n",
    "* MapReduce Simulator using reducer: <reducer.RatingReducer object at ...>\n",
    "* Lines in File:    100000 records (should be: 100000)\n",
    "* Filtered records: 1990 (should be: 1990)\n",
    "\n",
    "If not, try again and run the cell directly above this to check the result again.\n",
    "\n",
    "Feel free to play around with different <i>film_id</i> range.\n",
    "\n",
    "Good Luck!"
   ]
  }
 ],
 "metadata": {
  "kernelspec": {
   "display_name": "Python 3",
   "language": "python",
   "name": "python3"
  },
  "language_info": {
   "codemirror_mode": {
    "name": "ipython",
    "version": 3
   },
   "file_extension": ".py",
   "mimetype": "text/x-python",
   "name": "python",
   "nbconvert_exporter": "python",
   "pygments_lexer": "ipython3",
   "version": "3.6.2"
  }
 },
 "nbformat": 4,
 "nbformat_minor": 2
}
